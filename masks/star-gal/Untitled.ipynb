{
 "cells": [
  {
   "cell_type": "code",
   "execution_count": 1,
   "id": "5af96dd3-a079-4f49-907c-8a0758ba102d",
   "metadata": {},
   "outputs": [],
   "source": [
    "import numpy as np\n",
    "from astropy.table import Table\n",
    "import matplotlib.pyplot as plt"
   ]
  },
  {
   "cell_type": "code",
   "execution_count": 34,
   "id": "50db397f-2824-44cf-91ed-ec403166822e",
   "metadata": {},
   "outputs": [],
   "source": [
    "path = '/mnt/lustre/projects/astro/general/tc339/WAVES/nov3_parquet/WAVES_cluster_label.csv'"
   ]
  },
  {
   "cell_type": "code",
   "execution_count": 35,
   "id": "f4a6f18b-1995-47bc-9b36-ce519a69516d",
   "metadata": {},
   "outputs": [
    {
     "data": {
      "text/plain": [
       "'/mnt/lustre/projects/astro/general/tc339/WAVES/nov3_parquet/WAVES_cluster_label.csv'"
      ]
     },
     "execution_count": 35,
     "metadata": {},
     "output_type": "execute_result"
    }
   ],
   "source": [
    "path"
   ]
  },
  {
   "cell_type": "code",
   "execution_count": null,
   "id": "17e47220-40c1-42e6-bf28-718f369bc666",
   "metadata": {},
   "outputs": [],
   "source": [
    "data = Table.read(path)"
   ]
  },
  {
   "cell_type": "code",
   "execution_count": null,
   "id": "4dd49c1d-5d8d-4706-96aa-4a3e205fdee6",
   "metadata": {},
   "outputs": [],
   "source": [
    "data.columns"
   ]
  },
  {
   "cell_type": "code",
   "execution_count": 28,
   "id": "cb088e7d-3696-48a5-95b0-cbccb26ee9d3",
   "metadata": {},
   "outputs": [
    {
     "data": {
      "text/html": [
       "&lt;Column name=&apos;NQ&apos; dtype=&apos;int64&apos; length=3&gt;\n",
       "<table>\n",
       "<tr><td>3</td></tr>\n",
       "<tr><td>4</td></tr>\n",
       "<tr><td>5</td></tr>\n",
       "</table>"
      ],
      "text/plain": [
       "<Column name='NQ' dtype='int64' length=3>\n",
       "3\n",
       "4\n",
       "5"
      ]
     },
     "execution_count": 28,
     "metadata": {},
     "output_type": "execute_result"
    }
   ],
   "source": [
    "np.unique(data['NQ'])"
   ]
  },
  {
   "cell_type": "code",
   "execution_count": 18,
   "id": "21692ade-3f2f-42b6-87a0-fe2b7a3cfe0e",
   "metadata": {},
   "outputs": [
    {
     "data": {
      "text/plain": [
       "(array([ 1320.,  5416.,  9009., 14165., 18362., 20893., 24259., 20521.,\n",
       "        22309., 22610.]),\n",
       " array([0.        , 0.02      , 0.04      , 0.06      , 0.08      ,\n",
       "        0.1       , 0.12      , 0.14      , 0.16      , 0.18000001,\n",
       "        0.2       ]),\n",
       " <BarContainer object of 10 artists>)"
      ]
     },
     "execution_count": 18,
     "metadata": {},
     "output_type": "execute_result"
    },
    {
     "data": {
      "image/png": "[encoded data removed]",
      "text/plain": [
       "<Figure size 640x480 with 1 Axes>"
      ]
     },
     "metadata": {},
     "output_type": "display_data"
    }
   ],
   "source": [
    "plt.hist(data['Z'], log = True, range=[0, 0.2])\n"
   ]
  },
  {
   "cell_type": "code",
   "execution_count": 9,
   "id": "c91c502e-3548-4560-be3e-206849d5d50e",
   "metadata": {},
   "outputs": [
    {
     "data": {
      "text/html": [
       "<div><i>Table length=10</i>\n",
       "<table id=\"table140535787333200\" class=\"table-striped table-bordered table-condensed\">\n",
       "<thead><tr><th>RA</th><th>DEC</th><th>Z</th><th>NQ</th><th>SOURCE</th><th>PROPRIETARY</th><th>MDIST_CMAX</th><th>ID_CMAX</th><th>MDIST_CCEN</th><th>ID_CCEN</th><th>UBERID</th></tr></thead>\n",
       "<thead><tr><th>float64</th><th>float64</th><th>float32</th><th>int16</th><th>bytes23</th><th>bytes5</th><th>float64</th><th>int64</th><th>float64</th><th>int64</th><th>int64</th></tr></thead>\n",
       "<tr><td>355.104583</td><td>-31.462472</td><td>0.14808</td><td>4</td><td>2DFLENS</td><td>false</td><td>0.23192842423283733</td><td>355690900003849</td><td>0.13481796883013986</td><td>355690900003849</td><td>355690900003849</td></tr>\n",
       "<tr><td>355.107547</td><td>-28.401033</td><td>0.10174</td><td>4</td><td>2DFLENS</td><td>false</td><td>0.40390463846742725</td><td>356721114204582</td><td>0.6042624584198064</td><td>356721114204582</td><td>356721114204582</td></tr>\n",
       "<tr><td>355.108673</td><td>-33.746518</td><td>0.1584</td><td>4</td><td>2DFLENS</td><td>false</td><td>0.06817541610213809</td><td>355660791211242</td><td>0.07069245790963233</td><td>355660791211242</td><td>355660791211242</td></tr>\n",
       "<tr><td>355.109711</td><td>-34.493526</td><td>0.20788</td><td>4</td><td>2DFLENS</td><td>false</td><td>0.17129550693407153</td><td>355660789402278</td><td>0.21750908728977247</td><td>355660789402278</td><td>355660789402278</td></tr>\n",
       "<tr><td>355.112152</td><td>-29.998131</td><td>0.49827</td><td>4</td><td>2DFLENS</td><td>false</td><td>0.24569463595268626</td><td>356700999209420</td><td>0.6935550116110079</td><td>356700999209420</td><td>356700999209420</td></tr>\n",
       "<tr><td>355.112762</td><td>-28.20943</td><td>0.58318</td><td>4</td><td>2DFLENS</td><td>false</td><td>0.17002232830256783</td><td>356721109606881</td><td>0.22579870921852688</td><td>356721109606881</td><td>356721109606881</td></tr>\n",
       "<tr><td>355.113281</td><td>-29.378867</td><td>0.69872</td><td>3</td><td>2DFLENS</td><td>false</td><td>0.15648140775645877</td><td>356710999904850</td><td>0.23658620789160362</td><td>356710999904850</td><td>356710999904850</td></tr>\n",
       "<tr><td>355.114489</td><td>-31.889308</td><td>0.06071</td><td>4</td><td>2DFLENS</td><td>false</td><td>0.11840286097193042</td><td>355680889109527</td><td>0.13133958282846994</td><td>355680889109527</td><td>355680889109527</td></tr>\n",
       "<tr><td>355.114655</td><td>-28.694287</td><td>0.26314</td><td>4</td><td>2DFLENS</td><td>false</td><td>0.2470175945099554</td><td>356711000513066</td><td>0.14291344581807383</td><td>356711000513066</td><td>356711000513066</td></tr>\n",
       "<tr><td>355.11676</td><td>-29.918359</td><td>0.50739</td><td>4</td><td>2DFLENS</td><td>false</td><td>0.19785868541920143</td><td>356700994710377</td><td>0.30953306563925204</td><td>356700994710377</td><td>356700994710377</td></tr>\n",
       "</table></div>"
      ],
      "text/plain": [
       "<Table length=10>\n",
       "    RA        DEC        Z    ...     ID_CCEN          UBERID    \n",
       " float64    float64   float32 ...      int64           int64     \n",
       "---------- ---------- ------- ... --------------- ---------------\n",
       "355.104583 -31.462472 0.14808 ... 355690900003849 355690900003849\n",
       "355.107547 -28.401033 0.10174 ... 356721114204582 356721114204582\n",
       "355.108673 -33.746518  0.1584 ... 355660791211242 355660791211242\n",
       "355.109711 -34.493526 0.20788 ... 355660789402278 355660789402278\n",
       "355.112152 -29.998131 0.49827 ... 356700999209420 356700999209420\n",
       "355.112762  -28.20943 0.58318 ... 356721109606881 356721109606881\n",
       "355.113281 -29.378867 0.69872 ... 356710999904850 356710999904850\n",
       "355.114489 -31.889308 0.06071 ... 355680889109527 355680889109527\n",
       "355.114655 -28.694287 0.26314 ... 356711000513066 356711000513066\n",
       " 355.11676 -29.918359 0.50739 ... 356700994710377 356700994710377"
      ]
     },
     "execution_count": 9,
     "metadata": {},
     "output_type": "execute_result"
    }
   ],
   "source": [
    "data[0:10]"
   ]
  },
  {
   "cell_type": "code",
   "execution_count": null,
   "id": "65ffe042-5063-4ed0-9889-1ae99fd120b8",
   "metadata": {},
   "outputs": [],
   "source": []
  },
  {
   "cell_type": "code",
   "execution_count": null,
   "id": "740975e9-2da5-46f5-bd36-2fcf22b3061f",
   "metadata": {},
   "outputs": [],
   "source": []
  }
 ],
 "metadata": {
  "kernelspec": {
   "display_name": "main_env",
   "language": "python",
   "name": "main_env"
  },
  "language_info": {
   "codemirror_mode": {
    "name": "ipython",
    "version": 3
   },
   "file_extension": ".py",
   "mimetype": "text/x-python",
   "name": "python",
   "nbconvert_exporter": "python",
   "pygments_lexer": "ipython3",
   "version": "3.10.13"
  }
 },
 "nbformat": 4,
 "nbformat_minor": 5
}
