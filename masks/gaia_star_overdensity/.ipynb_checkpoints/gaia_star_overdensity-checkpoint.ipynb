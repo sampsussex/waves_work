{
 "cells": [
  {
   "cell_type": "code",
   "execution_count": 56,
   "id": "806d3ac6-a1cb-45c8-823f-1fe9bdf150df",
   "metadata": {},
   "outputs": [],
   "source": [
    "import numpy as np\n",
    "from astropy.table import Table\n",
    "import matplotlib.pyplot as plt\n",
    "import pandas as pd\n",
    "import pyarrow.parquet as pq\n",
    "from matplotlib.patches import Circle\n",
    "from matplotlib.colors import LogNorm\n",
    "from mpl_toolkits.axes_grid1.inset_locator import inset_axes\n",
    "from scipy.spatial import cKDTree\n",
    "from sklearn.neighbors import BallTree\n",
    "from astropy.coordinates import SkyCoord\n",
    "import astropy.units as u\n",
    "from astropy.coordinates import match_coordinates_sky\n",
    "from tqdm.notebook import tqdm"
   ]
  },
  {
   "cell_type": "code",
   "execution_count": 2,
   "id": "62081117-608b-402d-b369-4a3dc0aad7bd",
   "metadata": {},
   "outputs": [],
   "source": [
    "waves_s_filepath = '/Users/sp624AA/Downloads/Ultralight/waves_s_ultralite.parquet'\n",
    "waves_n_filepath = '/Users/sp624AA/Downloads/Ultralight/waves_n_ultralite.parquet'"
   ]
  },
  {
   "cell_type": "code",
   "execution_count": 3,
   "id": "d4eb4d2c-3876-4407-ae18-911946a47faa",
   "metadata": {},
   "outputs": [],
   "source": [
    "cat = pq.read_table(waves_s_filepath).to_pandas()\n",
    "#cat.loc[cat['starmask'] == 1, 'class'] = 'star'\n",
    "cat = cat[(cat['duplicate']==0)]"
   ]
  },
  {
   "cell_type": "code",
   "execution_count": 8,
   "id": "10dca593-2f59-4f8a-a00c-544043022bed",
   "metadata": {},
   "outputs": [
    {
     "data": {
      "text/plain": [
       "51472028"
      ]
     },
     "execution_count": 8,
     "metadata": {},
     "output_type": "execute_result"
    }
   ],
   "source": [
    "len(cat)"
   ]
  },
  {
   "cell_type": "code",
   "execution_count": 73,
   "id": "c2d0e844-2d57-4cac-8302-3f2d031ae5fc",
   "metadata": {},
   "outputs": [],
   "source": [
    "stars_path = '/Users/sp624AA/Downloads/Masking/gaiastarmaskwaves.csv'"
   ]
  },
  {
   "cell_type": "code",
   "execution_count": 74,
   "id": "834b6489-5f64-432d-b1b2-c8f03a91f5ec",
   "metadata": {},
   "outputs": [],
   "source": [
    "stars = pd.read_csv(stars_path)"
   ]
  },
  {
   "cell_type": "code",
   "execution_count": 75,
   "id": "67cd13cc-9563-4e1d-b4f2-eddec1a5e11b",
   "metadata": {},
   "outputs": [],
   "source": [
    "mask = stars['phot_g_mean_mag'] <= 16"
   ]
  },
  {
   "cell_type": "code",
   "execution_count": 76,
   "id": "7bfec4bf-f125-4bcc-ab37-3a51d18e4367",
   "metadata": {},
   "outputs": [],
   "source": [
    "stars = stars[(stars['dec'] < -10) & (stars['phot_g_mean_mag'] <= 16)]"
   ]
  },
  {
   "cell_type": "code",
   "execution_count": 77,
   "id": "190641a1-7fc1-4cb9-8c47-4a1c8e52317c",
   "metadata": {},
   "outputs": [],
   "source": [
    "def mask_radius_waves(g):\n",
    "    \"\"\"\n",
    "    Calculate r[arcmin] based on the given formula.\n",
    "\n",
    "    Parameters:\n",
    "        g (float or array-like): Input magnitude.\n",
    "\n",
    "    Returns:\n",
    "        numpy.ndarray: Calculated r[arcmin].\n",
    "    \"\"\"\n",
    "    g = np.asarray(g)  # Ensure g is a NumPy array\n",
    "    r = np.zeros_like(g, dtype=float)\n",
    "    mask1 = (g > 3.5) & (g < 16)\n",
    "    mask2 = g <= 3.5\n",
    "    r[mask1] = (10 ** (1.3 - 0.13 * g[mask1])) \n",
    "    r[mask2] = 7 \n",
    "    return r"
   ]
  },
  {
   "cell_type": "code",
   "execution_count": 78,
   "id": "72ee2589-18d4-48ff-99b2-88e1cf054898",
   "metadata": {},
   "outputs": [],
   "source": [
    "stars['mask_radius'] = mask_radius_waves(stars['phot_g_mean_mag'])"
   ]
  },
  {
   "cell_type": "code",
   "execution_count": 79,
   "id": "f886a2af-4429-481d-ba8d-2b688535d32f",
   "metadata": {},
   "outputs": [],
   "source": [
    "stars = stars[stars['phot_g_mean_mag'] <= 10]"
   ]
  },
  {
   "cell_type": "code",
   "execution_count": 80,
   "id": "bb2ef91f-30a9-4422-bbfc-6d49edbd1a5e",
   "metadata": {},
   "outputs": [],
   "source": [
    "# --- your existing bins & setup ---\n",
    "mag_bins = [(0, 3.5), (3.5, 12), (12, 15), (15, 16)]\n",
    "#nbins    = 250\n",
    "r_extent = 5.0\n",
    "annulus  = (1.1, 4.0)\n",
    "dr       = 1"
   ]
  },
  {
   "cell_type": "code",
   "execution_count": 81,
   "id": "bd146d59-f727-472c-9898-309c7b117b89",
   "metadata": {},
   "outputs": [],
   "source": [
    "\n",
    "# Input arrays\n",
    "stars_coords = SkyCoord(ra=np.array(stars['ra'])*u.deg, dec=np.array(stars['dec'])*u.deg)\n",
    "sources_coords = SkyCoord(ra=np.array(cat['RAmax'])*u.deg, dec=np.array(cat['Decmax'])*u.deg)\n"
   ]
  },
  {
   "cell_type": "code",
   "execution_count": 82,
   "id": "92c29c95-5619-4050-8e77-bb3a606545ac",
   "metadata": {},
   "outputs": [
    {
     "data": {
      "text/html": [
       "<div>\n",
       "<style scoped>\n",
       "    .dataframe tbody tr th:only-of-type {\n",
       "        vertical-align: middle;\n",
       "    }\n",
       "\n",
       "    .dataframe tbody tr th {\n",
       "        vertical-align: top;\n",
       "    }\n",
       "\n",
       "    .dataframe thead th {\n",
       "        text-align: right;\n",
       "    }\n",
       "</style>\n",
       "<table border=\"1\" class=\"dataframe\">\n",
       "  <thead>\n",
       "    <tr style=\"text-align: right;\">\n",
       "      <th></th>\n",
       "      <th>ra</th>\n",
       "      <th>dec</th>\n",
       "      <th>phot_g_mean_mag</th>\n",
       "      <th>mask_radius</th>\n",
       "    </tr>\n",
       "  </thead>\n",
       "  <tbody>\n",
       "    <tr>\n",
       "      <th>1084</th>\n",
       "      <td>52.219954</td>\n",
       "      <td>-35.905045</td>\n",
       "      <td>8.879301</td>\n",
       "      <td>1.398591</td>\n",
       "    </tr>\n",
       "    <tr>\n",
       "      <th>1652</th>\n",
       "      <td>5.040723</td>\n",
       "      <td>-35.902741</td>\n",
       "      <td>7.899990</td>\n",
       "      <td>1.875000</td>\n",
       "    </tr>\n",
       "    <tr>\n",
       "      <th>1716</th>\n",
       "      <td>2.458350</td>\n",
       "      <td>-33.789630</td>\n",
       "      <td>8.877761</td>\n",
       "      <td>1.399236</td>\n",
       "    </tr>\n",
       "    <tr>\n",
       "      <th>1784</th>\n",
       "      <td>358.111915</td>\n",
       "      <td>-34.642097</td>\n",
       "      <td>9.664957</td>\n",
       "      <td>1.105492</td>\n",
       "    </tr>\n",
       "    <tr>\n",
       "      <th>1905</th>\n",
       "      <td>2.536055</td>\n",
       "      <td>-32.792028</td>\n",
       "      <td>9.940213</td>\n",
       "      <td>1.018057</td>\n",
       "    </tr>\n",
       "    <tr>\n",
       "      <th>...</th>\n",
       "      <td>...</td>\n",
       "      <td>...</td>\n",
       "      <td>...</td>\n",
       "      <td>...</td>\n",
       "    </tr>\n",
       "    <tr>\n",
       "      <th>1201569</th>\n",
       "      <td>29.542151</td>\n",
       "      <td>-10.444919</td>\n",
       "      <td>9.826929</td>\n",
       "      <td>1.053172</td>\n",
       "    </tr>\n",
       "    <tr>\n",
       "      <th>1201606</th>\n",
       "      <td>29.851499</td>\n",
       "      <td>-10.461153</td>\n",
       "      <td>9.544937</td>\n",
       "      <td>1.145930</td>\n",
       "    </tr>\n",
       "    <tr>\n",
       "      <th>1201701</th>\n",
       "      <td>29.786821</td>\n",
       "      <td>-10.185939</td>\n",
       "      <td>8.609904</td>\n",
       "      <td>1.516046</td>\n",
       "    </tr>\n",
       "    <tr>\n",
       "      <th>1201798</th>\n",
       "      <td>29.226702</td>\n",
       "      <td>-10.300615</td>\n",
       "      <td>9.039316</td>\n",
       "      <td>1.333180</td>\n",
       "    </tr>\n",
       "    <tr>\n",
       "      <th>1201823</th>\n",
       "      <td>29.288425</td>\n",
       "      <td>-10.243469</td>\n",
       "      <td>6.203729</td>\n",
       "      <td>3.115410</td>\n",
       "    </tr>\n",
       "  </tbody>\n",
       "</table>\n",
       "<p>5113 rows × 4 columns</p>\n",
       "</div>"
      ],
      "text/plain": [
       "                 ra        dec  phot_g_mean_mag  mask_radius\n",
       "1084      52.219954 -35.905045         8.879301     1.398591\n",
       "1652       5.040723 -35.902741         7.899990     1.875000\n",
       "1716       2.458350 -33.789630         8.877761     1.399236\n",
       "1784     358.111915 -34.642097         9.664957     1.105492\n",
       "1905       2.536055 -32.792028         9.940213     1.018057\n",
       "...             ...        ...              ...          ...\n",
       "1201569   29.542151 -10.444919         9.826929     1.053172\n",
       "1201606   29.851499 -10.461153         9.544937     1.145930\n",
       "1201701   29.786821 -10.185939         8.609904     1.516046\n",
       "1201798   29.226702 -10.300615         9.039316     1.333180\n",
       "1201823   29.288425 -10.243469         6.203729     3.115410\n",
       "\n",
       "[5113 rows x 4 columns]"
      ]
     },
     "execution_count": 82,
     "metadata": {},
     "output_type": "execute_result"
    }
   ],
   "source": [
    "stars"
   ]
  },
  {
   "cell_type": "code",
   "execution_count": null,
   "id": "28919175-0bbb-40a2-9b91-72e17e478900",
   "metadata": {},
   "outputs": [
    {
     "data": {
      "application/vnd.jupyter.widget-view+json": {
       "model_id": "3aec17cfad094823b3d8ebceca7ce177",
       "version_major": 2,
       "version_minor": 0
      },
      "text/plain": [
       "Offset calc:   0%|          | 0/1546403 [00:00<?, ?it/s]"
      ]
     },
     "metadata": {},
     "output_type": "display_data"
    }
   ],
   "source": [
    "\n",
    "\n",
    "radii_arcmin = np.asarray(stars['mask_radius'])\n",
    "cos_dec = np.cos(stars_coords.dec.radian)\n",
    "\n",
    "# Max radius to search globally\n",
    "max_radius = radii_arcmin.max()\n",
    "idx_star, idx_src, sep2d, _ = search_around_sky(\n",
    "    stars_coords, sources_coords, seplimit=max_radius * u.arcmin\n",
    ")\n",
    "\n",
    "# Pre-allocate\n",
    "offsets_list = [[] for _ in range(len(stars))]\n",
    "\n",
    "# Convert all in one go to arrays\n",
    "sep_array_arcmin = sep2d.to(u.arcmin).value\n",
    "valid_mask = sep_array_arcmin <= radii_arcmin[idx_star]\n",
    "\n",
    "# Filter valid pairs in bulk\n",
    "idx_star = idx_star[valid_mask]\n",
    "idx_src  = idx_src[valid_mask]\n",
    "\n",
    "# Process in chunks for memory safety\n",
    "for i in tqdm(range(len(idx_star)), desc=\"Offset calc\"):\n",
    "    i_star = idx_star[i]\n",
    "    i_src = idx_src[i]\n",
    "\n",
    "    s = stars_coords[i_star]\n",
    "    t = sources_coords[i_src]\n",
    "\n",
    "    dra = (t.ra - s.ra).to(u.deg).value * cos_dec[i_star]\n",
    "    ddec = (t.dec - s.dec).to(u.deg).value\n",
    "\n",
    "    x = (dra * 60) / radii_arcmin[i_star]\n",
    "    y = (ddec * 60) / radii_arcmin[i_star]\n",
    "\n",
    "    offsets_list[i_star].append((x, y))\n"
   ]
  },
  {
   "cell_type": "code",
   "execution_count": null,
   "id": "fcf5d080-e2de-4121-bdb6-d5815436205f",
   "metadata": {},
   "outputs": [],
   "source": []
  }
 ],
 "metadata": {
  "kernelspec": {
   "display_name": "Python (astro_env)",
   "language": "python",
   "name": "astro_env"
  },
  "language_info": {
   "codemirror_mode": {
    "name": "ipython",
    "version": 3
   },
   "file_extension": ".py",
   "mimetype": "text/x-python",
   "name": "python",
   "nbconvert_exporter": "python",
   "pygments_lexer": "ipython3",
   "version": "3.9.21"
  }
 },
 "nbformat": 4,
 "nbformat_minor": 5
}
